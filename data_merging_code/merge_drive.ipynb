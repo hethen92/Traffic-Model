{
 "cells": [
  {
   "cell_type": "code",
   "execution_count": 1,
   "metadata": {},
   "outputs": [],
   "source": [
    "import pandas as pd\n",
    "import numpy as np\n",
    "import gc\n",
    "import glob\n",
    "\n",
    "taxi_trips = pd.read_parquet('../clean_data/clean_taxi_trips_sample.parquet')\n",
    "taxi_trips['start_datetime'] = pd.to_datetime(taxi_trips['start_datetime'])\n",
    "taxi_trips['end_datetime'] = pd.to_datetime(taxi_trips['end_datetime'])\n",
    "\n",
    "drive_events = pd.read_csv('../clean_data/clean_drive_events_sample.csv')\n",
    "drive_events['start_datetime'] = pd.to_datetime(drive_events['start_datetime'])\n",
    "drive_events['end_datetime'] = pd.to_datetime(drive_events['end_datetime'])\n",
    "drive_event_types = [None] * len(taxi_trips) \n",
    "taxi_trips['Event Type'] = drive_event_types"
   ]
  },
  {
   "cell_type": "markdown",
   "metadata": {},
   "source": [
    "Merges drive events with taxi trips dataset for datetime window overlaps/intersections and coordinates within +/- a 500m threshold distance/proximity to taxi trip coordinates. "
   ]
  },
  {
   "cell_type": "code",
   "execution_count": null,
   "metadata": {},
   "outputs": [],
   "source": [
    "def process_in_batches(drive_events, taxi_trips, batch_size=1000):\n",
    "    results = [] \n",
    "    num_batches = int(np.ceil(len(taxi_trips) / batch_size))\n",
    "    \n",
    "    for i in range(num_batches):\n",
    "        # Process a managable number of rows to prevent RAM error from Cartesian product \n",
    "        batch = taxi_trips.iloc[i * batch_size:(i + 1) * batch_size]\n",
    "        batch['key'] = 0\n",
    "        temp_drive_events = drive_events.copy()\n",
    "        temp_drive_events['key'] = 0\n",
    "        combined = pd.merge(temp_drive_events, batch, on='key').drop('key', axis=1)\n",
    "        \n",
    "        # Record distance between taxi coordinates and event coordinates\n",
    "        combined['lat_diff'] = np.abs(combined['Latitude'] - combined['PU_lat'])\n",
    "        combined['long_diff'] = np.abs(combined['Longitude'] - combined['PU_long'])\n",
    "        \n",
    "        # Keep event data instance if coordinates fall within threshold of trip coordinates (hardcoded, roughly 500m area)\n",
    "        proximity_filtered = combined[(combined['lat_diff'] <= 0.0045) & (combined['long_diff'] <= 0.0059)]\n",
    "\n",
    "        # Keep even data instance if time intervals of trip and event overlap or intersect\n",
    "        time_filtered = proximity_filtered[\n",
    "            (np.maximum(proximity_filtered['start_datetime_x'], proximity_filtered['start_datetime_y']) <= \n",
    "             np.minimum(proximity_filtered['end_datetime_x'], proximity_filtered['end_datetime_y']))\n",
    "        ]\n",
    "\n",
    "        # Append only rows meeting both conditions \n",
    "        results.append(time_filtered)\n",
    "        file_name = f\"drive_merged_{i}.parquet\"\n",
    "        time_filtered.to_parquet(file_name, index=False)\n",
    "\n",
    "        # Call garbage collection to free up memory for next batch to be processed\n",
    "        del combined, batch, temp_drive_events\n",
    "        gc.collect() \n",
    "\n",
    "    return pd.concat(results)\n",
    "\n",
    "processed_data = process_in_batches(drive_events, taxi_trips)"
   ]
  },
  {
   "cell_type": "code",
   "execution_count": 4,
   "metadata": {},
   "outputs": [],
   "source": [
    "# Load all batch-processed Parquet files into a single DataFrame \n",
    "parquet_files = glob.glob('drive_merged/*.parquet')\n",
    "all_events = pd.concat([pd.read_parquet(file) for file in parquet_files], ignore_index=True)\n",
    "\n",
    "\n",
    "# Merge the all filtered events with merged 'weather_taxi_pop' dataset on shared\n",
    "# taxi_trips dataset feature names/values\n",
    "all_events.rename(columns={'start_datetime_y': 'start_datetime',\n",
    "                           'end_datetime_y': 'end_datetime',\n",
    "                           'Event Type_x': 'Event Type'}, inplace=True)\n",
    "\n",
    "# Merge the all filtered events with merged 'weather_taxi_pop' dataset on shared\n",
    "# taxi_trips dataset feature names/values\n",
    "updated_taxi_trips = pd.merge(taxi_trips,\n",
    "                              all_events[['start_datetime', 'end_datetime', 'trip_distance', 'PU_lat', 'PU_long', 'Event Type']],\n",
    "                              on=['start_datetime', 'end_datetime', 'trip_distance', 'PU_lat', 'PU_long'],\n",
    "                              how='left')\n",
    "\n",
    "# Copy event type data from merged dataset into final dataset column\n",
    "updated_taxi_trips['Event Type'] = updated_taxi_trips.apply(\n",
    "    lambda row: row['Event Type_y'] if pd.notna(row['Event Type_y']) else row['Event Type_x'], axis=1)\n",
    "\n",
    "# Delete extraneous columns, rename columns where needed\n",
    "updated_taxi_trips = updated_taxi_trips.drop(columns=['Event Type_x', 'Event Type_y'])\n",
    "updated_taxi_trips = updated_taxi_trips.rename(columns={'Event Type': 'drive_events'})\n",
    "drive_events = updated_taxi_trips['drive_events']\n",
    "updated_taxi_trips = updated_taxi_trips.drop(columns='drive_events')\n",
    "updated_taxi_trips = updated_taxi_trips.drop_duplicates()\n",
    "updated_taxi_trips['drive_events'] = drive_events\n",
    "\n",
    "updated_taxi_trips.to_parquet('../partial_merge/drive_events_merge.parquet')"
   ]
  }
 ],
 "metadata": {
  "kernelspec": {
   "display_name": "Python 3",
   "language": "python",
   "name": "python3"
  },
  "language_info": {
   "codemirror_mode": {
    "name": "ipython",
    "version": 3
   },
   "file_extension": ".py",
   "mimetype": "text/x-python",
   "name": "python",
   "nbconvert_exporter": "python",
   "pygments_lexer": "ipython3",
   "version": "3.9.2"
  }
 },
 "nbformat": 4,
 "nbformat_minor": 2
}
