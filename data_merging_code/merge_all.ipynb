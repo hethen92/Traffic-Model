{
 "cells": [
  {
   "cell_type": "code",
   "execution_count": null,
   "metadata": {},
   "outputs": [],
   "source": [
    "import pandas as pd\n",
    "\n",
    "weather_pop = pd.read_parquet('../partial_merge/weather_taxi_pop_merge.parquet')\n",
    "drive = pd.read_parquet('../partial_merge/drive_events_merge.parquet')\n",
    "special = pd.read_parquet('../partial_merge/special_events_merge.parquet')\n",
    "weather_pop_drive = pd.merge(weather_pop, drive, on=['start_datetime', 'end_datetime', 'trip_distance', 'PU_lat', 'PU_long', 'DO_lat', 'DO_long'], how='outer')\n",
    "\n",
    "complete_df = pd.merge(weather_pop_drive, special, on=['start_datetime', 'end_datetime', 'trip_distance', 'PU_lat', 'PU_long', 'DO_lat', 'DO_long'], how='outer')\n",
    "complete_df.to_parquet('../final_dataset/all_features_merged.parquet')"
   ]
  }
 ],
 "metadata": {
  "language_info": {
   "name": "python"
  }
 },
 "nbformat": 4,
 "nbformat_minor": 2
}
