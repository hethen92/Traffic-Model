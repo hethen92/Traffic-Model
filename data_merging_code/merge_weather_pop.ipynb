{
 "cells": [
  {
   "cell_type": "code",
   "execution_count": 1,
   "metadata": {},
   "outputs": [],
   "source": [
    "import pandas as pd\n",
    "import geopandas as gpd\n",
    "from shapely.geometry import Point\n",
    "import gc\n",
    "import numpy as np"
   ]
  },
  {
   "cell_type": "code",
   "execution_count": 2,
   "metadata": {},
   "outputs": [],
   "source": [
    "taxi_trips = pd.read_parquet('../clean_data/clean_taxi_trips_sample.parquet')\n",
    "hourly_weather = pd.read_csv('../clean_data/clean_weather.csv')\n",
    "pop_count = pd.read_csv('../clean_data/clean_pop_count.csv')"
   ]
  },
  {
   "cell_type": "markdown",
   "metadata": {},
   "source": [
    "Merges cleaned datasets for hourly weather statistics on hourly intervals and population density with 100m resolution on proximity to coordinates with taxi trip datasets. "
   ]
  },
  {
   "cell_type": "code",
   "execution_count": null,
   "metadata": {},
   "outputs": [],
   "source": [
    "def process_taxi_weather_population_in_batches(taxi_trips, hourly_weather, pop_count, batch_size=2000):\n",
    "    hourly_weather['start_datetime'] = pd.to_datetime(hourly_weather['start_datetime'])\n",
    "    hourly_weather['datetime_interval'] = hourly_weather['start_datetime'].dt.strftime('%Y-%m-%d-%H')\n",
    "    gdf_pop = gpd.GeoDataFrame(pop_count, geometry=[Point(xy) for xy in zip(pop_count.longitude, pop_count.latitude)], crs=4326)\n",
    "    \n",
    "    results = []\n",
    "    num_batches = int(np.ceil(len(taxi_trips) / batch_size))\n",
    "\n",
    "    for i in range(num_batches):\n",
    "        batch = taxi_trips.iloc[i * batch_size:(i + 1) * batch_size]\n",
    "        batch['start_datetime'] = pd.to_datetime(batch['start_datetime'])\n",
    "        batch['datetime_interval'] = batch['start_datetime'].dt.strftime('%Y-%m-%d-%H')\n",
    "\n",
    "        # Merge with weather data on hourly intervals\n",
    "        taxi_weather = pd.merge(batch, hourly_weather, on='datetime_interval', how='left')\n",
    "        taxi_weather = taxi_weather.drop(columns=['datetime_interval', 'start_datetime_y', 'end_datetime_y'])\n",
    "        taxi_weather = taxi_weather.rename(columns={'start_datetime_x': 'start_datetime', 'end_datetime_x': 'end_datetime'})\n",
    "\n",
    "        # Create Geometry Point objects for check for proximity between coordinates\n",
    "        gdf_taxi_pu = gpd.GeoDataFrame(taxi_weather, geometry=[Point(xy) for xy in zip(taxi_weather.PU_long, taxi_weather.PU_lat)], crs=4326)\n",
    "        gdf_taxi_do = gpd.GeoDataFrame(taxi_weather, geometry=[Point(xy) for xy in zip(taxi_weather.DO_long, taxi_weather.DO_lat)], crs=4326)\n",
    "\n",
    "        # Join with nearest population count coordinates (within 100m)\n",
    "        result_pu = gpd.sjoin_nearest(gdf_taxi_pu, gdf_pop, max_distance=200, distance_col=\"distance_meters_pu\")\n",
    "        result_pu.rename(columns={'pop_count': 'PU_pop_count'}, inplace=True)\n",
    "\n",
    "        # Join with nearest population count coordinates (within 100m)\n",
    "        result_do = gpd.sjoin_nearest(gdf_taxi_do, gdf_pop, max_distance=100, distance_col=\"distance_meters_do\")\n",
    "        result_do.rename(columns={'pop_count': 'DO_pop_count'}, inplace=True)\n",
    "\n",
    "        # Join with nearest population count coordinates (within 100m)\n",
    "        taxi_weather = taxi_weather.join(result_pu[['PU_pop_count']], how='left')\n",
    "        taxi_weather = taxi_weather.join(result_do[['DO_pop_count']], how='left', rsuffix='_do')\n",
    "        results.append(taxi_weather)\n",
    "\n",
    "        # Call garbage collection to free up RAM, prevent memory error crashes\n",
    "        del batch, taxi_weather, gdf_taxi_pu, gdf_taxi_do, result_pu, result_do\n",
    "        gc.collect()\n",
    "\n",
    "    taxi_weather.to_parquet('../partial_merge/weather_taxi_pop_merge.parquet')\n",
    "    return pd.concat(results)\n",
    "\n",
    "processed_data = process_taxi_weather_population_in_batches(taxi_trips, hourly_weather, pop_count)"
   ]
  }
 ],
 "metadata": {
  "kernelspec": {
   "display_name": "Python 3",
   "language": "python",
   "name": "python3"
  },
  "language_info": {
   "codemirror_mode": {
    "name": "ipython",
    "version": 3
   },
   "file_extension": ".py",
   "mimetype": "text/x-python",
   "name": "python",
   "nbconvert_exporter": "python",
   "pygments_lexer": "ipython3",
   "version": "3.9.2"
  }
 },
 "nbformat": 4,
 "nbformat_minor": 2
}
