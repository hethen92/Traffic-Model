{
 "cells": [
  {
   "cell_type": "markdown",
   "metadata": {},
   "source": [
    "Create latitude and longitude columns for trip pick up and drop off locations from merging on 'PULocationID'/'DOLocationID' features with cleaned 'taxi_zones' dataset."
   ]
  },
  {
   "cell_type": "code",
   "execution_count": null,
   "metadata": {},
   "outputs": [],
   "source": [
    "import pandas as pd\n",
    "\n",
    "taxi_ids = pd.read_csv('../clean_data/clean_taxi_ids.csv')\n",
    "\n",
    "for month in range(1, 13):  \n",
    "    month_str = f\"{month:02}\"  \n",
    "    file_path = f'../original_data/yellow_tripdata_2012-{month_str}.parquet'\n",
    "    output_file_path = f'../clean_data/clean_taxi_data_2012_{month_str}.parquet'\n",
    "\n",
    "    taxi_trips = pd.read_parquet(file_path)\n",
    "    \n",
    "    taxi_trips = taxi_trips.drop(columns=['VendorID', 'passenger_count', 'RatecodeID',\n",
    "                                          'store_and_fwd_flag', 'payment_type', 'fare_amount',\n",
    "                                          'extra', 'mta_tax', 'tip_amount', 'tolls_amount',\n",
    "                                          'improvement_surcharge', 'total_amount',\n",
    "                                          'congestion_surcharge', 'airport_fee'])\n",
    "    \n",
    "    # Merge for Pickup Locations\n",
    "    taxi_trips = pd.merge(taxi_trips, taxi_ids[['PULocationID', 'PU_lat', 'PU_long']],\n",
    "                                   how='left', left_on='PULocationID', right_on='PULocationID')\n",
    "\n",
    "    # Merge for Dropoff Locations\n",
    "    taxi_trips = pd.merge(taxi_trips, taxi_ids[['DOLocationID', 'DO_lat', 'DO_long']],\n",
    "                                   how='left', left_on='DOLocationID', right_on='DOLocationID')\n",
    "\n",
    "    taxi_trips.rename(columns={'tpep_pickup_datetime': 'start_datetime'}, inplace=True)\n",
    "    taxi_trips.rename(columns={'tpep_dropoff_datetime': 'end_datetime'}, inplace=True)\n",
    "    taxi_trips = taxi_trips.drop(columns=['PULocationID', 'DOLocationID'])\n"
   ]
  }
 ],
 "metadata": {
  "language_info": {
   "name": "python"
  }
 },
 "nbformat": 4,
 "nbformat_minor": 2
}
