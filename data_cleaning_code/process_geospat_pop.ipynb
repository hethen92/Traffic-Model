{
 "cells": [
  {
   "cell_type": "code",
   "execution_count": 10,
   "metadata": {},
   "outputs": [],
   "source": [
    "import rasterio\n",
    "import numpy as np\n",
    "import pandas as pd\n",
    "from shapely.geometry import box"
   ]
  },
  {
   "cell_type": "markdown",
   "metadata": {},
   "source": [
    "Get the \"windows\" needed from the TIFF file of complete USA population count dataset.\n",
    "Processing complete dataset computationally expensive."
   ]
  },
  {
   "cell_type": "code",
   "execution_count": 11,
   "metadata": {},
   "outputs": [],
   "source": [
    "with rasterio.open('../original_data/usa_ppp_2012.tif') as src:\n",
    "    # Retain data for only the windows that contain NYC\n",
    "    windows_data = []\n",
    "\n",
    "    # Geographical coordinate bounds of NYC\n",
    "    min_lat, max_lat = 40.52763504199989, 40.91037152011096\n",
    "    min_long, max_long = -74.21220034099993, -73.70134715908382\n",
    "\n",
    "    for ji, window in src.block_windows(1):\n",
    "        # Bounds of current window read from complete US TIFF file\n",
    "        window_bounds = src.window_bounds(window)\n",
    "        min_long_window, min_lat_window, max_long_window, max_lat_window = window_bounds\n",
    "\n",
    "        #  Only append window data if bounds intersect with NYC bounds\n",
    "        if ((max_lat + 1 >= min_lat_window >= min_lat - 1) and\n",
    "            (max_lat + 1 >= max_lat_window >= min_lat - 1) and\n",
    "            (max_long + 1 >= min_long_window >= min_long - 1) and\n",
    "            (max_long + 1 >= max_long_window >= min_long - 1)):\n",
    "            \n",
    "            windows_data.append({\n",
    "                'min_long': min_long_window,\n",
    "                'min_lat': min_lat_window,\n",
    "                'max_long': max_long_window,\n",
    "                'max_lat': max_lat_window\n",
    "            })\n",
    "\n",
    "windows_bounds_df = pd.DataFrame(windows_data)\n",
    "windows_bounds_df.to_csv('../interim_refined_data/usa_windows_needed.csv')"
   ]
  },
  {
   "cell_type": "markdown",
   "metadata": {},
   "source": [
    "Extract all data from only the windows defined above."
   ]
  },
  {
   "cell_type": "code",
   "execution_count": 12,
   "metadata": {},
   "outputs": [],
   "source": [
    "windows_of_interest_boxes = []\n",
    "\n",
    "# Convert data back into box object for matching to windows needed\n",
    "for d in windows_data:\n",
    "    min_long = d['min_long']\n",
    "    min_lat = d['min_lat']\n",
    "    max_long = d['max_long']\n",
    "    max_lat = d['max_lat']\n",
    "    \n",
    "    current_box = box(min_long, min_lat, max_long, max_lat)\n",
    "    windows_of_interest_boxes.append(current_box)\n",
    "\n",
    "with rasterio.open('../original_data/usa_ppp_2012.tif') as src:\n",
    "    nodata = src.nodatavals[0]  \n",
    "    data = [] \n",
    "\n",
    "    for ji, window in src.block_windows(1):\n",
    "        window_bounds = src.window_bounds(window)\n",
    "        window_box = box(*window_bounds) \n",
    "\n",
    "        # Check if current window matches any of the windows needed\n",
    "        if any(window_box.intersects(w_box) for w_box in windows_of_interest_boxes):\n",
    "            window_array = src.read(window=window, indexes=1)\n",
    "\n",
    "            if window_array.ndim == 2: \n",
    "                rows, cols = np.indices(window_array.shape, dtype=np.int32)\n",
    "                rows, cols = rows.flatten(), cols.flatten()\n",
    "                rows += window.row_off\n",
    "                cols += window.col_off\n",
    "\n",
    "                xs, ys = rasterio.transform.xy(src.transform, rows, cols, offset='center')\n",
    "                window_flat = window_array.flatten()\n",
    "\n",
    "                # Exclude nodata values from collected instances\n",
    "                window_data = [{'latitude': y, 'longitude': x, 'pop_count': pop} for x, y, pop in zip(xs, ys, window_flat) if pop != nodata]\n",
    "                data.extend(window_data)\n",
    "\n",
    "# Dataset of all instances from windows that intersect NYC / within NYC bounds\n",
    "df = pd.DataFrame(data)\n",
    "df.to_csv('../interim_refined_data/pop_count_windows.csv', index=False)"
   ]
  },
  {
   "cell_type": "markdown",
   "metadata": {},
   "source": [
    "Filter out the latitude & longitude coordinates outside of NYC bounds.\n",
    "Some windows were only partially in bounds.\n",
    "Final NYC population dataset to be merged with complete dataset. "
   ]
  },
  {
   "cell_type": "code",
   "execution_count": 9,
   "metadata": {},
   "outputs": [],
   "source": [
    "min_lat, max_lat = 40.52763504199989, 40.91037152011096\n",
    "min_long, max_long = -74.21220034099993, -73.70134715908382\n",
    "\n",
    "df = df[(df['latitude'] >= min_lat) & (df['latitude'] <= max_lat) &\n",
    "        (df['longitude'] >= min_long) & (df['longitude'] <= max_long)] \n",
    "\n",
    "df.to_csv('../refined_data/pop_count_new_york.csv', index=False)"
   ]
  }
 ],
 "metadata": {
  "kernelspec": {
   "display_name": "Python 3",
   "language": "python",
   "name": "python3"
  },
  "language_info": {
   "codemirror_mode": {
    "name": "ipython",
    "version": 3
   },
   "file_extension": ".py",
   "mimetype": "text/x-python",
   "name": "python",
   "nbconvert_exporter": "python",
   "pygments_lexer": "ipython3",
   "version": "3.11.9"
  }
 },
 "nbformat": 4,
 "nbformat_minor": 2
}
