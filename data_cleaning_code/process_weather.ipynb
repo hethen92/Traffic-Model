{
 "cells": [
  {
   "cell_type": "code",
   "execution_count": 20,
   "metadata": {},
   "outputs": [
    {
     "name": "stderr",
     "output_type": "stream",
     "text": [
      "C:\\Users\\savvy\\AppData\\Local\\Temp\\ipykernel_14588\\1235246588.py:22: FutureWarning: A value is trying to be set on a copy of a DataFrame or Series through chained assignment using an inplace method.\n",
      "The behavior will change in pandas 3.0. This inplace method will never work because the intermediate object on which we are setting values always behaves as a copy.\n",
      "\n",
      "For example, when doing 'df[col].method(value, inplace=True)', try using 'df.method({col: value}, inplace=True)' or df[col] = df[col].method(value) instead, to perform the operation inplace on the original object.\n",
      "\n",
      "\n",
      "  hourly_weather['rain_1h'].fillna(0.0, inplace=True)\n",
      "C:\\Users\\savvy\\AppData\\Local\\Temp\\ipykernel_14588\\1235246588.py:23: FutureWarning: A value is trying to be set on a copy of a DataFrame or Series through chained assignment using an inplace method.\n",
      "The behavior will change in pandas 3.0. This inplace method will never work because the intermediate object on which we are setting values always behaves as a copy.\n",
      "\n",
      "For example, when doing 'df[col].method(value, inplace=True)', try using 'df.method({col: value}, inplace=True)' or df[col] = df[col].method(value) instead, to perform the operation inplace on the original object.\n",
      "\n",
      "\n",
      "  hourly_weather['snow_1h'].fillna(0.0, inplace=True)\n"
     ]
    }
   ],
   "source": [
    "import pandas as pd\n",
    "\n",
    "hourly_weather = pd.read_csv('../original_data/ny_hourly_weather_data.csv')\n",
    "\n",
    "hourly_weather.drop_duplicates(subset=['dt_iso'], inplace=True)\n",
    "hourly_weather = hourly_weather.drop(columns=['dt','timezone', 'city_name', 'lat', 'lon', 'dew_point', \n",
    "                                                      'feels_like', 'temp_min', 'temp_max', 'pressure', \n",
    "                                                      'sea_level', 'grnd_level', 'humidity', 'wind_deg', \n",
    "                                                      'wind_gust', 'rain_3h', 'snow_3h', 'clouds_all', \n",
    "                                                      'weather_id', 'weather_main', 'weather_icon'])\n",
    "\n",
    "hourly_weather.rename(columns={'dt_iso': 'start_datetime'}, inplace=True) \n",
    "hourly_weather.rename(columns={'weather_description': 'weather'}, inplace=True)\n",
    "\n",
    "hourly_weather['start_datetime'] = hourly_weather['start_datetime'].str.slice(0, 19)\n",
    "hourly_weather['start_datetime'] = pd.to_datetime(hourly_weather['start_datetime'])\n",
    "\n",
    "start_datetime_index = hourly_weather.columns.get_loc('start_datetime')\n",
    "hourly_weather.insert(start_datetime_index + 1, 'end_datetime','')\n",
    "hourly_weather['end_datetime'] = hourly_weather['start_datetime'] + pd.Timedelta(minutes=59)\n",
    "\n",
    "hourly_weather['rain_1h'].fillna(0.0, inplace=True)\n",
    "hourly_weather['snow_1h'].fillna(0.0, inplace=True)\n",
    "\n",
    "hourly_weather.to_csv('../refined_data/refined_ny_weather.csv', index=False)"
   ]
  }
 ],
 "metadata": {
  "kernelspec": {
   "display_name": "Python 3",
   "language": "python",
   "name": "python3"
  },
  "language_info": {
   "codemirror_mode": {
    "name": "ipython",
    "version": 3
   },
   "file_extension": ".py",
   "mimetype": "text/x-python",
   "name": "python",
   "nbconvert_exporter": "python",
   "pygments_lexer": "ipython3",
   "version": "3.11.9"
  }
 },
 "nbformat": 4,
 "nbformat_minor": 2
}
