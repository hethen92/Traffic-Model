{
 "cells": [
  {
   "cell_type": "markdown",
   "metadata": {},
   "source": [
    "Refine monthly taxi trip datasets to keep essential information & merge with taxi IDs dataset to add latitude/longitude in place of IDs.\n",
    "Process all months (2012)."
   ]
  },
  {
   "cell_type": "code",
   "execution_count": null,
   "metadata": {},
   "outputs": [],
   "source": [
    "import pandas as pd\n",
    "\n",
    "taxi_ids = pd.read_csv('../interim_refined_data/refined_taxi_ids.csv')\n",
    "for month in range(1, 13):  \n",
    "    month_str = f\"{month:02}\"  \n",
    "    file_path = f'../original_data/taxi_data_original_examples/yellow_tripdata_2012_{month_str}_example.csv'\n",
    "    output_file_path = f'../refined_data/refined_taxi_data_examples/refined_taxi_data_2012_{month_str}_example.csv'\n",
    "\n",
    "    taxi_trips = pd.read_csv(file_path)\n",
    "    \n",
    "    taxi_trips = taxi_trips.drop(columns=['VendorID', 'passenger_count', 'RatecodeID',\n",
    "                                          'store_and_fwd_flag', 'payment_type', 'fare_amount',\n",
    "                                          'extra', 'mta_tax', 'tip_amount', 'tolls_amount',\n",
    "                                          'improvement_surcharge', 'total_amount',\n",
    "                                          'congestion_surcharge', 'airport_fee'])\n",
    "\n",
    "    # Merge for Pickup Locations\n",
    "    trips_with_lat_long = pd.merge(taxi_trips, taxi_ids[['PULocationID', 'PU_lat', 'PU_long']],\n",
    "                                   how='left', left_on='PULocationID', right_on='PULocationID')\n",
    "\n",
    "    # Merge for Dropoff Locations\n",
    "    trips_with_lat_long = pd.merge(trips_with_lat_long, taxi_ids[['DOLocationID', 'DO_lat', 'DO_long']],\n",
    "                                   how='left', left_on='DOLocationID', right_on='DOLocationID')\n",
    "\n",
    "    trips_with_lat_long.rename(columns={'tpep_pickup_datetime': 'PU_datetime'}, inplace=True)\n",
    "    trips_with_lat_long.rename(columns={'tpep_dropoff_datetime': 'DO_datetime'}, inplace=True)\n",
    "    trips_with_lat_long = trips_with_lat_long.drop(columns=['PULocationID', 'DOLocationID'])\n",
    "\n",
    "    trips_with_lat_long.to_csv(output_file_path)"
   ]
  }
 ],
 "metadata": {
  "kernelspec": {
   "display_name": "Python 3",
   "language": "python",
   "name": "python3"
  },
  "language_info": {
   "codemirror_mode": {
    "name": "ipython",
    "version": 3
   },
   "file_extension": ".py",
   "mimetype": "text/x-python",
   "name": "python",
   "nbconvert_exporter": "python",
   "pygments_lexer": "ipython3",
   "version": "3.11.8"
  }
 },
 "nbformat": 4,
 "nbformat_minor": 2
}
