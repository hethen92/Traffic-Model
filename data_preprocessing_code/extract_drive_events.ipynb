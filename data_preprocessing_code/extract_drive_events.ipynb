{
 "cells": [
  {
   "cell_type": "code",
   "execution_count": 24,
   "metadata": {},
   "outputs": [
    {
     "data": {
      "text/plain": [
       "2934082"
      ]
     },
     "execution_count": 24,
     "metadata": {},
     "output_type": "execute_result"
    }
   ],
   "source": [
    "import pandas as pd \n",
    "\n",
    "driveEvents = pd.read_csv('../original_data/new_york_drive_events.csv')\n",
    "\n",
    "len(driveEvents)"
   ]
  },
  {
   "cell_type": "code",
   "execution_count": 25,
   "metadata": {},
   "outputs": [],
   "source": [
    "# Take out columns\n",
    "driveEvents.drop(columns=['Organization Name','Facility Name','Direction','City','County','State','Event Description','Responding Organization Id','Georeference'], inplace=True)"
   ]
  },
  {
   "cell_type": "code",
   "execution_count": 26,
   "metadata": {},
   "outputs": [],
   "source": [
    "# Take out events that are not relevant\n",
    "#driveEvents = driveEvents[driveEvents['Event Type'].isin(values_to_drop)]"
   ]
  },
  {
   "cell_type": "code",
   "execution_count": 27,
   "metadata": {},
   "outputs": [
    {
     "data": {
      "text/plain": [
       "268741"
      ]
     },
     "execution_count": 27,
     "metadata": {},
     "output_type": "execute_result"
    }
   ],
   "source": [
    "# Parse out dates except all of 2012\n",
    "\n",
    "driveEvents['Create Time'] = pd.to_datetime(driveEvents['Create Time'], format='%m/%d/%Y %I:%M:%S %p')\n",
    "driveEvents['Close Time'] = pd.to_datetime(driveEvents['Close Time'], format='%m/%d/%Y %I:%M:%S %p')\n",
    "\n",
    "start_date = '2012-01-01'\n",
    "end_date = '2012-12-31'\n",
    "\n",
    "driveEvents = driveEvents[(driveEvents['Create Time'] >= start_date) & (driveEvents['Close Time'] <= end_date)]\n",
    "\n",
    "len(driveEvents)"
   ]
  },
  {
   "cell_type": "code",
   "execution_count": 28,
   "metadata": {},
   "outputs": [
    {
     "data": {
      "text/plain": [
       "88532"
      ]
     },
     "execution_count": 28,
     "metadata": {},
     "output_type": "execute_result"
    }
   ],
   "source": [
    "# Parse out new york taxi coordinates\n",
    "\n",
    "min_lat = 40.52763504199989\n",
    "max_lat = 40.91037152011096\n",
    "min_lon = -74.21220034099993\n",
    "max_lon = -73.70134715908382\n",
    "\n",
    "driveEvents = driveEvents[(driveEvents['Latitude'] >= min_lat) & (driveEvents['Latitude'] <= max_lat) & (driveEvents['Longitude'] >= min_lon) & (driveEvents['Longitude'] <= max_lon)]\n",
    "\n",
    "len(driveEvents)"
   ]
  },
  {
   "cell_type": "code",
   "execution_count": 29,
   "metadata": {},
   "outputs": [],
   "source": [
    "driveEvents.rename(columns={'Create Time': ' start_datetime'}, inplace=True)\n",
    "driveEvents.rename(columns={'Close Time': ' end_datetime'}, inplace=True)\n",
    "driveEvents.to_csv('../interim_refined_data/refined_drive_events.csv', index=False)"
   ]
  }
 ],
 "metadata": {
  "kernelspec": {
   "display_name": "Python 3",
   "language": "python",
   "name": "python3"
  },
  "language_info": {
   "codemirror_mode": {
    "name": "ipython",
    "version": 3
   },
   "file_extension": ".py",
   "mimetype": "text/x-python",
   "name": "python",
   "nbconvert_exporter": "python",
   "pygments_lexer": "ipython3",
   "version": "3.10.2"
  }
 },
 "nbformat": 4,
 "nbformat_minor": 2
}
