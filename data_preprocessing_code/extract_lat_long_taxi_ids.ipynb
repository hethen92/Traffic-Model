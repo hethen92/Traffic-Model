{
 "cells": [
  {
   "cell_type": "markdown",
   "metadata": {},
   "source": [
    "Refine taxi IDS dataset to merge with taxi trips datasets, which only contain IDs without latitude and longitude values (missing important information)"
   ]
  },
  {
   "cell_type": "code",
   "execution_count": null,
   "metadata": {},
   "outputs": [],
   "source": [
    "import pandas as pd\n",
    "\n",
    "taxi_ids = pd.read_csv('../original_data/taxi_zones.csv')\n",
    "taxi_ids['latitude'] = None\n",
    "taxi_ids['longitude'] = None\n",
    "\n",
    "# Regex pattern to extract the latitude and longitude.\n",
    "# Optional (-) + one or more digits (0-9), space, same pattern for longitude \n",
    "pattern = r\"\\(\\(\\((-?\\d+\\.\\d+|-?\\d+) (-?\\d+\\.\\d+|-?\\d+)\"\n",
    "\n",
    "# str.extract to apply the regex pattern\n",
    "extracted = taxi_ids['the_geom'].str.extract(pattern)\n",
    "\n",
    "# Convert the extracted strings to float, as latitude and longitude are numeric.\n",
    "taxi_ids['latitude'] = extracted[1].astype(float)\n",
    "taxi_ids['longitude'] = extracted[0].astype(float)\n",
    "\n",
    "taxi_ids = taxi_ids.drop(columns=['the_geom'])\n",
    "taxi_ids = taxi_ids.drop(columns=['Shape_Leng'])\n",
    "\n",
    "taxi_ids['DO_lat'] = taxi_ids['latitude'].copy()\n",
    "taxi_ids['DO_long'] = taxi_ids['longitude'].copy()\n",
    "\n",
    "taxi_ids.rename(columns={'latitude': 'PU_lat'}, inplace=True)\n",
    "taxi_ids.rename(columns={'longitude': 'PU_long'}, inplace=True)\n",
    "\n",
    "taxi_ids['DOLocationID'] = taxi_ids['OBJECTID'].copy()\n",
    "taxi_ids.rename(columns={'OBJECTID': 'PULocationID'}, inplace=True)\n",
    "\n",
    "taxi_ids.to_csv('../interim_refined_data/refined_taxi_ids.csv', index=False)"
   ]
  },
  {
   "cell_type": "code",
   "execution_count": null,
   "metadata": {},
   "outputs": [],
   "source": [
    "min_PU_lat = taxi_ids['PU_lat'].min()\n",
    "max_PU_lat = taxi_ids['PU_lat'].max()\n",
    "min_PU_long = taxi_ids['PU_long'].min()\n",
    "max_PU_long = taxi_ids['PU_long'].max()\n",
    "\n",
    "print(\"Minimum PU_lat:\", min_PU_lat)\n",
    "print(\"Maximum PU_lat:\", max_PU_lat)\n",
    "print(\"Minimum PU_long:\", min_PU_long)\n",
    "print(\"Maximum PU_long:\", max_PU_long)\n",
    "\n",
    "# Minimum PU_lat: 40.52763504199989\n",
    "# Maximum PU_lat: 40.91037152011096\n",
    "# Minimum PU_long: -74.21220034099993\n",
    "# Maximum PU_long: -73.70134715908382"
   ]
  }
 ],
 "metadata": {
  "kernelspec": {
   "display_name": "Python 3",
   "language": "python",
   "name": "python3"
  },
  "language_info": {
   "codemirror_mode": {
    "name": "ipython",
    "version": 3
   },
   "file_extension": ".py",
   "mimetype": "text/x-python",
   "name": "python",
   "nbconvert_exporter": "python",
   "pygments_lexer": "ipython3",
   "version": "3.11.9"
  }
 },
 "nbformat": 4,
 "nbformat_minor": 2
}
