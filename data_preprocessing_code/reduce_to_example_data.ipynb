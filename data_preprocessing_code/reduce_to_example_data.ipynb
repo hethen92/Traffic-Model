{
 "cells": [
  {
   "cell_type": "code",
   "execution_count": 2,
   "metadata": {},
   "outputs": [],
   "source": [
    "import pandas as pd\n",
    "import os\n",
    "import dask.dataframe as dd\n",
    "import rasterio\n",
    "from rasterio.windows import from_bounds\n",
    "from rasterio.enums import Resampling"
   ]
  },
  {
   "cell_type": "markdown",
   "metadata": {},
   "source": [
    "Keep only subsets of the original and interim refined data for structure, demonstration, and example purposes (Github file size limitations).\n",
    "Note: This file cannot be executed, original files are not provided. \n",
    "File paths have been updated to point to example files in all other locations. "
   ]
  },
  {
   "cell_type": "code",
   "execution_count": 8,
   "metadata": {},
   "outputs": [],
   "source": [
    "for month in range(1, 13):\n",
    "    month_str = f\"{month:02}\"\n",
    "    file_path = f'../original_data/yellow_tripdata_2012_{month_str}.parquet'\n",
    "    taxi_trips = pd.read_parquet(file_path)\n",
    "\n",
    "    example_taxi_trips = taxi_trips.head(100)\n",
    "    example_file_path = f'../original_data/taxi_data_original_examples/yellow_tripdata_2012_{month_str}_example.csv'\n",
    "    example_taxi_trips.to_csv(example_file_path)\n",
    "\n",
    "    os.remove(file_path)"
   ]
  },
  {
   "cell_type": "code",
   "execution_count": 7,
   "metadata": {},
   "outputs": [],
   "source": [
    "for month in range(1, 13):\n",
    "    month_str = f\"{month:02}\"\n",
    "    file_path = f'../refined_data/refined_taxi_data_2012_{month_str}.parquet'\n",
    "    taxi_trips = pd.read_parquet(file_path)\n",
    "\n",
    "    example_taxi_trips = taxi_trips.head(100)\n",
    "    example_file_path = f'../refined_data/refined_taxi_data_examples/refined_taxi_data_2012_{month_str}_example.csv'\n",
    "    example_taxi_trips.to_csv(example_file_path)\n",
    "\n",
    "    os.remove(file_path)"
   ]
  },
  {
   "cell_type": "markdown",
   "metadata": {},
   "source": [
    "Dataset contains information on accidents, construction, road maintenance and activities that affect traffic.\n",
    "Complete dataset available at: https://catalog.data.gov/dataset/511-ny-events-beginning-2010"
   ]
  },
  {
   "cell_type": "code",
   "execution_count": 3,
   "metadata": {},
   "outputs": [],
   "source": [
    "df = dd.read_csv('../original_data/new_york_drive_events.csv')\n",
    "truncated_df = df.head(200, compute=True)\n",
    "truncated_df.to_csv('../original_data/drive_events_org_example.csv', index=False)"
   ]
  },
  {
   "cell_type": "markdown",
   "metadata": {},
   "source": [
    "Dataset contains population count for coordinates every 100m of US.\n",
    "Example TIFF file contains 1 window that intersects NYC coordinate boundaries.\n",
    "Complete dataset available at: https://hub.worldpop.org/geodata/summary?id=4553"
   ]
  },
  {
   "cell_type": "code",
   "execution_count": 4,
   "metadata": {},
   "outputs": [],
   "source": [
    "with rasterio.open('../original_data/usa_ppp_2012.tif') as src:\n",
    "    # Retain data for only the windows that contain NYC\n",
    "    windows_data = []\n",
    "\n",
    "    # Geographical coordinate bounds of NYC\n",
    "    min_lat, max_lat = 40.52763504199989, 40.91037152011096\n",
    "    min_long, max_long = -74.21220034099993, -73.70134715908382\n",
    "\n",
    "    for ji, window in src.block_windows(1):\n",
    "        # Bounds of current window read from complete US TIFF file\n",
    "        window_bounds = src.window_bounds(window)\n",
    "        min_long_window, min_lat_window, max_long_window, max_lat_window = window_bounds\n",
    "\n",
    "        # Only append window data if bounds intersect with NYC bounds\n",
    "        if ((max_lat + 1 >= min_lat_window >= min_lat - 1) and\n",
    "            (max_lat + 1 >= max_lat_window >= min_lat - 1) and\n",
    "            (max_long + 1 >= min_long_window >= min_long - 1) and\n",
    "            (max_long + 1 >= max_long_window >= min_long - 1)):\n",
    "            \n",
    "            windows_data.append({\n",
    "                'min_long': min_long_window,\n",
    "                'min_lat': min_lat_window,\n",
    "                'max_long': max_long_window,\n",
    "                'max_lat': max_lat_window\n",
    "            })\n",
    "\n",
    "    first_window_data = windows_data[0]\n",
    "    min_long, min_lat, max_long, max_lat = first_window_data['min_long'], first_window_data['min_lat'], first_window_data['max_long'], first_window_data['max_lat']\n",
    "\n",
    "    # Create window object from window bounds \n",
    "    window = from_bounds(min_long, min_lat, max_long, max_lat, src.transform)\n",
    "    \n",
    "    window_data = src.read(window=window, resampling=Resampling.nearest)\n",
    "\n",
    "    # Copy metadata from the original dataset for example window file\n",
    "    out_meta = src.meta.copy()\n",
    "    out_meta.update({\n",
    "        \"driver\": \"GTiff\",\n",
    "        \"height\": window_data.shape[1],\n",
    "        \"width\": window_data.shape[2],\n",
    "        \"transform\": rasterio.windows.transform(window, src.transform)\n",
    "    })\n",
    "\n",
    "    with rasterio.open('../original_data/geospatial_pop_data_example.tif', 'w', **out_meta) as out_dst:\n",
    "        out_dst.write(window_data)        "
   ]
  },
  {
   "cell_type": "markdown",
   "metadata": {},
   "source": [
    "Original datasets (not truncated to examples) available at: \n",
    "taxi_zones: https://data.cityofnewyork.us/Transportation/NYC-Taxi-Zones/d3c5-ddgc\n",
    "new_york_special_events: https://data.ny.gov/Transportation/511-NY-Sporting-Concert-and-Special-Events-Beginni/3ha4-4nfg/about_data\n",
    "ny_hourly_weather_data: https://home.openweathermap.org/history_bulks/new (must be purchased)\n"
   ]
  }
 ],
 "metadata": {
  "kernelspec": {
   "display_name": "Python 3",
   "language": "python",
   "name": "python3"
  },
  "language_info": {
   "codemirror_mode": {
    "name": "ipython",
    "version": 3
   },
   "file_extension": ".py",
   "mimetype": "text/x-python",
   "name": "python",
   "nbconvert_exporter": "python",
   "pygments_lexer": "ipython3",
   "version": "3.11.9"
  }
 },
 "nbformat": 4,
 "nbformat_minor": 2
}
