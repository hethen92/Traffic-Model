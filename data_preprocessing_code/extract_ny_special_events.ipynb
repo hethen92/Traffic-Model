{
 "cells": [
  {
   "cell_type": "code",
   "execution_count": 8,
   "metadata": {},
   "outputs": [
    {
     "data": {
      "text/plain": [
       "13377"
      ]
     },
     "execution_count": 8,
     "metadata": {},
     "output_type": "execute_result"
    }
   ],
   "source": [
    "import pandas as pd \n",
    "import numpy as np\n",
    "\n",
    "specialEvents = pd.read_csv('../original_data/new_york_special_events.csv')\n",
    "\n",
    "len(specialEvents)"
   ]
  },
  {
   "cell_type": "code",
   "execution_count": 9,
   "metadata": {},
   "outputs": [],
   "source": [
    "# Take out columns\n",
    "specialEvents.drop(columns=['Organization Name','Facility Name','Direction','City','County','State','Event Description','Responding Organization Id'], inplace=True)"
   ]
  },
  {
   "cell_type": "code",
   "execution_count": 10,
   "metadata": {},
   "outputs": [],
   "source": [
    "# Take out events that are not relevant\n",
    "\n",
    "values_to_remove = ['Unkown Value', 'special events']\n",
    "specialEvents = specialEvents[~specialEvents['Event Type'].isin(values_to_remove)]"
   ]
  },
  {
   "cell_type": "code",
   "execution_count": 11,
   "metadata": {},
   "outputs": [
    {
     "data": {
      "text/plain": [
       "0"
      ]
     },
     "execution_count": 11,
     "metadata": {},
     "output_type": "execute_result"
    }
   ],
   "source": [
    "# Parse out dates except all of 2012\n",
    "\n",
    "specialEvents['Create Time'] = pd.to_datetime(specialEvents['Create Time'], format='%m/%d/%Y %I:%M:%S %p')\n",
    "specialEvents['Close Time'] = pd.to_datetime(specialEvents['Close Time'], format='%m/%d/%Y %I:%M:%S %p')\n",
    "\n",
    "start_date = '2012-01-01'\n",
    "end_date = '2012-12-31'\n",
    "\n",
    "specialEvents = specialEvents[(specialEvents['Create Time'] >= start_date) & (specialEvents['Close Time'] <= end_date)]\n",
    "\n",
    "len(specialEvents)"
   ]
  },
  {
   "cell_type": "code",
   "execution_count": 12,
   "metadata": {},
   "outputs": [
    {
     "data": {
      "text/plain": [
       "0"
      ]
     },
     "execution_count": 12,
     "metadata": {},
     "output_type": "execute_result"
    }
   ],
   "source": [
    "# Parse out new york taxi coordinates\n",
    "\n",
    "min_lat = 40.52763504199989\n",
    "max_lat = 40.91037152011096\n",
    "min_lon = -74.21220034099993\n",
    "max_lon = -73.70134715908382\n",
    "\n",
    "specialEvents = specialEvents[(specialEvents['Latitude'] >= min_lat) & (specialEvents['Latitude'] <= max_lat) & (specialEvents['Longitude'] >= min_lon) & (specialEvents['Longitude'] <= max_lon)]\n",
    "\n",
    "len(specialEvents)"
   ]
  },
  {
   "cell_type": "code",
   "execution_count": 13,
   "metadata": {},
   "outputs": [
    {
     "name": "stderr",
     "output_type": "stream",
     "text": [
      "C:\\Users\\hethe\\AppData\\Local\\Temp\\ipykernel_26408\\3907797993.py:5: FutureWarning: Argument `closed` is deprecated in favor of `inclusive`.\n",
      "  hourly_range = pd.date_range(start=row['Create Time'], end=row['Close Time'], freq='H', closed='left')\n"
     ]
    },
    {
     "ename": "AttributeError",
     "evalue": "'DataFrame' object has no attribute 'tolist'",
     "output_type": "error",
     "traceback": [
      "\u001b[1;31m---------------------------------------------------------------------------\u001b[0m",
      "\u001b[1;31mAttributeError\u001b[0m                            Traceback (most recent call last)",
      "\u001b[1;32m~\\AppData\\Local\\Temp\\ipykernel_26408\\3907797993.py\u001b[0m in \u001b[0;36m?\u001b[1;34m()\u001b[0m\n\u001b[0;32m     20\u001b[0m     \u001b[0mnew_rows\u001b[0m\u001b[1;33m.\u001b[0m\u001b[0mloc\u001b[0m\u001b[1;33m[\u001b[0m\u001b[0mdif\u001b[0m \u001b[1;33m>=\u001b[0m \u001b[1;36m59\u001b[0m\u001b[1;33m,\u001b[0m \u001b[1;34m'end_datetime'\u001b[0m\u001b[1;33m]\u001b[0m \u001b[1;33m=\u001b[0m \u001b[0mnew_rows\u001b[0m\u001b[1;33m[\u001b[0m\u001b[1;34m'start_datetime'\u001b[0m\u001b[1;33m]\u001b[0m \u001b[1;33m+\u001b[0m \u001b[0mpd\u001b[0m\u001b[1;33m.\u001b[0m\u001b[0mTimedelta\u001b[0m\u001b[1;33m(\u001b[0m\u001b[0mminutes\u001b[0m\u001b[1;33m=\u001b[0m\u001b[1;36m59\u001b[0m\u001b[1;33m)\u001b[0m\u001b[1;33m\u001b[0m\u001b[1;33m\u001b[0m\u001b[0m\n\u001b[0;32m     21\u001b[0m \u001b[1;33m\u001b[0m\u001b[0m\n\u001b[0;32m     22\u001b[0m     \u001b[1;32mreturn\u001b[0m \u001b[0mnew_rows\u001b[0m\u001b[1;33m\u001b[0m\u001b[1;33m\u001b[0m\u001b[0m\n\u001b[0;32m     23\u001b[0m \u001b[1;33m\u001b[0m\u001b[0m\n\u001b[1;32m---> 24\u001b[1;33m \u001b[0mspecialEvents\u001b[0m \u001b[1;33m=\u001b[0m \u001b[0mpd\u001b[0m\u001b[1;33m.\u001b[0m\u001b[0mconcat\u001b[0m\u001b[1;33m(\u001b[0m\u001b[0mspecialEvents\u001b[0m\u001b[1;33m.\u001b[0m\u001b[0mapply\u001b[0m\u001b[1;33m(\u001b[0m\u001b[0mcreate_hourly_rows\u001b[0m\u001b[1;33m,\u001b[0m \u001b[0maxis\u001b[0m\u001b[1;33m=\u001b[0m\u001b[1;36m1\u001b[0m\u001b[1;33m)\u001b[0m\u001b[1;33m.\u001b[0m\u001b[0mtolist\u001b[0m\u001b[1;33m(\u001b[0m\u001b[1;33m)\u001b[0m\u001b[1;33m,\u001b[0m \u001b[0mignore_index\u001b[0m\u001b[1;33m=\u001b[0m\u001b[1;32mTrue\u001b[0m\u001b[1;33m)\u001b[0m\u001b[1;33m\u001b[0m\u001b[1;33m\u001b[0m\u001b[0m\n\u001b[0m\u001b[0;32m     25\u001b[0m \u001b[1;33m\u001b[0m\u001b[0m\n",
      "\u001b[1;32mc:\\Users\\hethe\\AppData\\Local\\Programs\\Python\\Python310\\lib\\site-packages\\pandas\\core\\generic.py\u001b[0m in \u001b[0;36m?\u001b[1;34m(self, name)\u001b[0m\n\u001b[0;32m   5898\u001b[0m             \u001b[1;32mand\u001b[0m \u001b[0mname\u001b[0m \u001b[1;32mnot\u001b[0m \u001b[1;32min\u001b[0m \u001b[0mself\u001b[0m\u001b[1;33m.\u001b[0m\u001b[0m_accessors\u001b[0m\u001b[1;33m\u001b[0m\u001b[1;33m\u001b[0m\u001b[0m\n\u001b[0;32m   5899\u001b[0m             \u001b[1;32mand\u001b[0m \u001b[0mself\u001b[0m\u001b[1;33m.\u001b[0m\u001b[0m_info_axis\u001b[0m\u001b[1;33m.\u001b[0m\u001b[0m_can_hold_identifiers_and_holds_name\u001b[0m\u001b[1;33m(\u001b[0m\u001b[0mname\u001b[0m\u001b[1;33m)\u001b[0m\u001b[1;33m\u001b[0m\u001b[1;33m\u001b[0m\u001b[0m\n\u001b[0;32m   5900\u001b[0m         ):\n\u001b[0;32m   5901\u001b[0m             \u001b[1;32mreturn\u001b[0m \u001b[0mself\u001b[0m\u001b[1;33m[\u001b[0m\u001b[0mname\u001b[0m\u001b[1;33m]\u001b[0m\u001b[1;33m\u001b[0m\u001b[1;33m\u001b[0m\u001b[0m\n\u001b[1;32m-> 5902\u001b[1;33m         \u001b[1;32mreturn\u001b[0m \u001b[0mobject\u001b[0m\u001b[1;33m.\u001b[0m\u001b[0m__getattribute__\u001b[0m\u001b[1;33m(\u001b[0m\u001b[0mself\u001b[0m\u001b[1;33m,\u001b[0m \u001b[0mname\u001b[0m\u001b[1;33m)\u001b[0m\u001b[1;33m\u001b[0m\u001b[1;33m\u001b[0m\u001b[0m\n\u001b[0m",
      "\u001b[1;31mAttributeError\u001b[0m: 'DataFrame' object has no attribute 'tolist'"
     ]
    }
   ],
   "source": [
    "# Creating a new row for each hour for each event duration\n",
    "\n",
    "def create_hourly_rows(row):\n",
    "\n",
    "    hourly_range = pd.date_range(start=row['Create Time'], end=row['Close Time'], freq='H', closed='left')\n",
    "    \n",
    "    repeats = len(hourly_range)\n",
    "    if repeats == 0:  \n",
    "        hourly_range = [row['Create Time']]  \n",
    "        repeats = 1\n",
    "    new_rows = pd.DataFrame(np.repeat(row.values[None, :], repeats, axis=0), columns=row.index)\n",
    "    new_rows['start_datetime'] = hourly_range\n",
    "    new_rows['end_datetime'] = row['Close Time']\n",
    "\n",
    "    new_rows['start_datetime'] = pd.to_datetime(new_rows['start_datetime']) \n",
    "    new_rows['end_datetime'] = pd.to_datetime(new_rows['end_datetime'])\n",
    "\n",
    "    dif = (new_rows['end_datetime'] - new_rows['start_datetime']).dt.total_seconds() / 60\n",
    "\n",
    "    new_rows.loc[dif >= 59, 'end_datetime'] = new_rows['start_datetime'] + pd.Timedelta(minutes=59)\n",
    "\n",
    "    return new_rows\n",
    "\n",
    "specialEvents = pd.concat(specialEvents.apply(create_hourly_rows, axis=1).tolist(), ignore_index=True)\n",
    "    "
   ]
  },
  {
   "cell_type": "code",
   "execution_count": null,
   "metadata": {},
   "outputs": [],
   "source": [
    "#specialEvents.rename(columns={'Create Time': ' start_datetime'}, inplace=True)\n",
    "#specialEvents.rename(columns={'Close Time': ' end_datetime'}, inplace=True)\n",
    "specialEvents.to_csv('../interim_refined_data/refined_ny_special_events.csv', index=False)"
   ]
  }
 ],
 "metadata": {
  "kernelspec": {
   "display_name": "Python 3",
   "language": "python",
   "name": "python3"
  },
  "language_info": {
   "codemirror_mode": {
    "name": "ipython",
    "version": 3
   },
   "file_extension": ".py",
   "mimetype": "text/x-python",
   "name": "python",
   "nbconvert_exporter": "python",
   "pygments_lexer": "ipython3",
   "version": "3.10.2"
  }
 },
 "nbformat": 4,
 "nbformat_minor": 2
}
